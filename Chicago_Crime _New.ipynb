{
 "cells": [
  {
   "cell_type": "markdown",
   "id": "59346651-84eb-4204-b6f6-b306ef47c999",
   "metadata": {},
   "source": [
    "## Exploratory Data Analysis(EDA) with Python\n",
    "In this project, I explore *Chicago Chrime* Dataset\n",
    "\n",
    "### Introduction to EDA\n",
    "Exploratory Data Analysis is step of analyzing new dataset. It is used to find the distribution of data and also provides tool to visualizing and understanding data through graphical representation.\n",
    "\n",
    "### Distribution of variable\n",
    "* Univariate Distribution\n",
    "* Bivariate Distribution\n",
    "* Multivariate Distribution\n"
   ]
  },
  {
   "cell_type": "markdown",
   "id": "d391b5c7-75f7-41f5-a995-9610b955305d",
   "metadata": {},
   "source": [
    "### 1. Import Python Libraries\n",
    "* *Pandas and Numpy* for data analysis process.\n",
    "* *matplotlib and Seaborn* for data visualization process."
   ]
  },
  {
   "cell_type": "code",
   "execution_count": 5,
   "id": "3ac375a3-35ed-4b66-9ec7-f99a3198d1b8",
   "metadata": {},
   "outputs": [],
   "source": [
    "import pandas as pd\n",
    "import numpy as np\n",
    "import csv\n",
    "import matplotlib.pyplot as plt\n",
    "import seaborn as sns\n",
    "import scipy.stats as st\n",
    "\n",
    "# ignore warnings\n",
    "import warnings\n",
    "warnings.simplefilter(action='ignore', category=FutureWarning)"
   ]
  },
  {
   "cell_type": "markdown",
   "id": "8ea0ff97-1641-4664-bb74-c8673012ce8a",
   "metadata": {},
   "source": [
    "## 2.Load the dataset"
   ]
  },
  {
   "cell_type": "code",
   "execution_count": 7,
   "id": "fadeb05d-a8de-4cce-8d41-0935b3f52b68",
   "metadata": {},
   "outputs": [],
   "source": [
    "data_crime = pd.read_excel(\"C:/Users/moort/Downloads/Crime_Data.xlsx\")"
   ]
  },
  {
   "cell_type": "markdown",
   "id": "bf00a44f-066b-402e-8716-a2d6c0b8c3b1",
   "metadata": {},
   "source": [
    "## 3.Overview of dataset"
   ]
  },
  {
   "cell_type": "markdown",
   "id": "d6da04a8-c18f-4d99-857c-8f8469680559",
   "metadata": {},
   "source": [
    "**3.1 shape** - Attribute to check the dimension of the data"
   ]
  },
  {
   "cell_type": "code",
   "execution_count": 10,
   "id": "73774685-3e65-46f6-879e-93aefef50314",
   "metadata": {},
   "outputs": [
    {
     "data": {
      "text/plain": [
       "(549999, 22)"
      ]
     },
     "execution_count": 10,
     "metadata": {},
     "output_type": "execute_result"
    }
   ],
   "source": [
    "data_crime.shape"
   ]
  },
  {
   "cell_type": "markdown",
   "id": "421d7906-935c-4ee4-9366-6f7b42b0ba69",
   "metadata": {},
   "source": [
    "**3.2 Column** - Attribute to check the columns of the data"
   ]
  },
  {
   "cell_type": "code",
   "execution_count": 12,
   "id": "20c952f2-6954-46fa-b1ed-70fbccabe503",
   "metadata": {},
   "outputs": [
    {
     "data": {
      "text/plain": [
       "Index(['ID', 'Case Number', 'Date', 'Block', 'IUCR', 'Primary Type',\n",
       "       'Description', 'Location Description', 'Arrest', 'Domestic', 'Beat',\n",
       "       'District', 'Ward', 'Community Area', 'FBI Code', 'X Coordinate',\n",
       "       'Y Coordinate', 'Year', 'Updated On', 'Latitude', 'Longitude',\n",
       "       'Location'],\n",
       "      dtype='object')"
      ]
     },
     "execution_count": 12,
     "metadata": {},
     "output_type": "execute_result"
    }
   ],
   "source": [
    "data_crime.columns"
   ]
  },
  {
   "cell_type": "markdown",
   "id": "162d950b-8c77-4a2e-a975-a6fc8555c93a",
   "metadata": {},
   "source": [
    "**3.3 head()** - To view the top five rows of the dataset"
   ]
  },
  {
   "cell_type": "code",
   "execution_count": 14,
   "id": "d1a332d3-de56-4f31-9a95-254d0e32f0bb",
   "metadata": {},
   "outputs": [
    {
     "data": {
      "text/html": [
       "<div>\n",
       "<style scoped>\n",
       "    .dataframe tbody tr th:only-of-type {\n",
       "        vertical-align: middle;\n",
       "    }\n",
       "\n",
       "    .dataframe tbody tr th {\n",
       "        vertical-align: top;\n",
       "    }\n",
       "\n",
       "    .dataframe thead th {\n",
       "        text-align: right;\n",
       "    }\n",
       "</style>\n",
       "<table border=\"1\" class=\"dataframe\">\n",
       "  <thead>\n",
       "    <tr style=\"text-align: right;\">\n",
       "      <th></th>\n",
       "      <th>0</th>\n",
       "      <th>1</th>\n",
       "      <th>2</th>\n",
       "      <th>3</th>\n",
       "      <th>4</th>\n",
       "    </tr>\n",
       "  </thead>\n",
       "  <tbody>\n",
       "    <tr>\n",
       "      <th>ID</th>\n",
       "      <td>5741943</td>\n",
       "      <td>25953</td>\n",
       "      <td>26038</td>\n",
       "      <td>13279676</td>\n",
       "      <td>13274752</td>\n",
       "    </tr>\n",
       "    <tr>\n",
       "      <th>Case Number</th>\n",
       "      <td>HN549294</td>\n",
       "      <td>JE240540</td>\n",
       "      <td>JE279849</td>\n",
       "      <td>JG507211</td>\n",
       "      <td>JG501049</td>\n",
       "    </tr>\n",
       "    <tr>\n",
       "      <th>Date</th>\n",
       "      <td>2007-08-25 09:22:18</td>\n",
       "      <td>2021-05-24 15:06:00</td>\n",
       "      <td>2021-06-26 09:24:00</td>\n",
       "      <td>2023-11-09 07:30:00</td>\n",
       "      <td>2023-11-12 07:59:00</td>\n",
       "    </tr>\n",
       "    <tr>\n",
       "      <th>Block</th>\n",
       "      <td>074XX N ROGERS AVE</td>\n",
       "      <td>020XX N LARAMIE AVE</td>\n",
       "      <td>062XX N MC CORMICK RD</td>\n",
       "      <td>019XX W BYRON ST</td>\n",
       "      <td>086XX S COTTAGE GROVE AVE</td>\n",
       "    </tr>\n",
       "    <tr>\n",
       "      <th>IUCR</th>\n",
       "      <td>560</td>\n",
       "      <td>110</td>\n",
       "      <td>110</td>\n",
       "      <td>620</td>\n",
       "      <td>454</td>\n",
       "    </tr>\n",
       "    <tr>\n",
       "      <th>Primary Type</th>\n",
       "      <td>ASSAULT</td>\n",
       "      <td>HOMICIDE</td>\n",
       "      <td>HOMICIDE</td>\n",
       "      <td>BURGLARY</td>\n",
       "      <td>BATTERY</td>\n",
       "    </tr>\n",
       "    <tr>\n",
       "      <th>Description</th>\n",
       "      <td>SIMPLE</td>\n",
       "      <td>FIRST DEGREE MURDER</td>\n",
       "      <td>FIRST DEGREE MURDER</td>\n",
       "      <td>UNLAWFUL ENTRY</td>\n",
       "      <td>AGGRAVATED P.O. - HANDS, FISTS, FEET, NO / MIN...</td>\n",
       "    </tr>\n",
       "    <tr>\n",
       "      <th>Location Description</th>\n",
       "      <td>OTHER</td>\n",
       "      <td>STREET</td>\n",
       "      <td>PARKING LOT</td>\n",
       "      <td>APARTMENT</td>\n",
       "      <td>SMALL RETAIL STORE</td>\n",
       "    </tr>\n",
       "    <tr>\n",
       "      <th>Arrest</th>\n",
       "      <td>False</td>\n",
       "      <td>True</td>\n",
       "      <td>True</td>\n",
       "      <td>False</td>\n",
       "      <td>True</td>\n",
       "    </tr>\n",
       "    <tr>\n",
       "      <th>Domestic</th>\n",
       "      <td>False</td>\n",
       "      <td>False</td>\n",
       "      <td>False</td>\n",
       "      <td>False</td>\n",
       "      <td>False</td>\n",
       "    </tr>\n",
       "    <tr>\n",
       "      <th>Beat</th>\n",
       "      <td>2422</td>\n",
       "      <td>2515</td>\n",
       "      <td>1711</td>\n",
       "      <td>1922</td>\n",
       "      <td>632</td>\n",
       "    </tr>\n",
       "    <tr>\n",
       "      <th>District</th>\n",
       "      <td>24</td>\n",
       "      <td>25</td>\n",
       "      <td>17</td>\n",
       "      <td>19</td>\n",
       "      <td>6</td>\n",
       "    </tr>\n",
       "    <tr>\n",
       "      <th>Ward</th>\n",
       "      <td>49.0</td>\n",
       "      <td>36.0</td>\n",
       "      <td>50.0</td>\n",
       "      <td>47.0</td>\n",
       "      <td>6.0</td>\n",
       "    </tr>\n",
       "    <tr>\n",
       "      <th>Community Area</th>\n",
       "      <td>1.0</td>\n",
       "      <td>19.0</td>\n",
       "      <td>13.0</td>\n",
       "      <td>5.0</td>\n",
       "      <td>44.0</td>\n",
       "    </tr>\n",
       "    <tr>\n",
       "      <th>FBI Code</th>\n",
       "      <td>08A</td>\n",
       "      <td>01A</td>\n",
       "      <td>01A</td>\n",
       "      <td>5</td>\n",
       "      <td>08B</td>\n",
       "    </tr>\n",
       "    <tr>\n",
       "      <th>X Coordinate</th>\n",
       "      <td>NaN</td>\n",
       "      <td>1141387.0</td>\n",
       "      <td>1152781.0</td>\n",
       "      <td>1162518.0</td>\n",
       "      <td>1183071.0</td>\n",
       "    </tr>\n",
       "    <tr>\n",
       "      <th>Y Coordinate</th>\n",
       "      <td>NaN</td>\n",
       "      <td>1913179.0</td>\n",
       "      <td>1941458.0</td>\n",
       "      <td>1925906.0</td>\n",
       "      <td>1847869.0</td>\n",
       "    </tr>\n",
       "    <tr>\n",
       "      <th>Year</th>\n",
       "      <td>2007</td>\n",
       "      <td>2021</td>\n",
       "      <td>2021</td>\n",
       "      <td>2023</td>\n",
       "      <td>2023</td>\n",
       "    </tr>\n",
       "    <tr>\n",
       "      <th>Updated On</th>\n",
       "      <td>2015-08-17 15:03:40</td>\n",
       "      <td>2023-11-18 15:39:49</td>\n",
       "      <td>2023-11-18 15:39:49</td>\n",
       "      <td>2023-11-18 15:39:49</td>\n",
       "      <td>2023-12-09 15:41:24</td>\n",
       "    </tr>\n",
       "    <tr>\n",
       "      <th>Latitude</th>\n",
       "      <td>NaN</td>\n",
       "      <td>41.917838</td>\n",
       "      <td>41.995219</td>\n",
       "      <td>41.952345</td>\n",
       "      <td>41.737751</td>\n",
       "    </tr>\n",
       "    <tr>\n",
       "      <th>Longitude</th>\n",
       "      <td>NaN</td>\n",
       "      <td>-87.755969</td>\n",
       "      <td>-87.713355</td>\n",
       "      <td>-87.677975</td>\n",
       "      <td>-87.604856</td>\n",
       "    </tr>\n",
       "    <tr>\n",
       "      <th>Location</th>\n",
       "      <td>NaN</td>\n",
       "      <td>(41.917838056, -87.755968972)</td>\n",
       "      <td>(41.995219444, -87.713354912)</td>\n",
       "      <td>(41.952345086, -87.677975059)</td>\n",
       "      <td>(41.737750767, -87.604855911)</td>\n",
       "    </tr>\n",
       "  </tbody>\n",
       "</table>\n",
       "</div>"
      ],
      "text/plain": [
       "                                        0                              1  \\\n",
       "ID                                5741943                          25953   \n",
       "Case Number                      HN549294                       JE240540   \n",
       "Date                  2007-08-25 09:22:18            2021-05-24 15:06:00   \n",
       "Block                  074XX N ROGERS AVE            020XX N LARAMIE AVE   \n",
       "IUCR                                  560                            110   \n",
       "Primary Type                      ASSAULT                       HOMICIDE   \n",
       "Description                        SIMPLE            FIRST DEGREE MURDER   \n",
       "Location Description                OTHER                         STREET   \n",
       "Arrest                              False                           True   \n",
       "Domestic                            False                          False   \n",
       "Beat                                 2422                           2515   \n",
       "District                               24                             25   \n",
       "Ward                                 49.0                           36.0   \n",
       "Community Area                        1.0                           19.0   \n",
       "FBI Code                              08A                            01A   \n",
       "X Coordinate                          NaN                      1141387.0   \n",
       "Y Coordinate                          NaN                      1913179.0   \n",
       "Year                                 2007                           2021   \n",
       "Updated On            2015-08-17 15:03:40            2023-11-18 15:39:49   \n",
       "Latitude                              NaN                      41.917838   \n",
       "Longitude                             NaN                     -87.755969   \n",
       "Location                              NaN  (41.917838056, -87.755968972)   \n",
       "\n",
       "                                                  2  \\\n",
       "ID                                            26038   \n",
       "Case Number                                JE279849   \n",
       "Date                            2021-06-26 09:24:00   \n",
       "Block                         062XX N MC CORMICK RD   \n",
       "IUCR                                            110   \n",
       "Primary Type                               HOMICIDE   \n",
       "Description                     FIRST DEGREE MURDER   \n",
       "Location Description                    PARKING LOT   \n",
       "Arrest                                         True   \n",
       "Domestic                                      False   \n",
       "Beat                                           1711   \n",
       "District                                         17   \n",
       "Ward                                           50.0   \n",
       "Community Area                                 13.0   \n",
       "FBI Code                                        01A   \n",
       "X Coordinate                              1152781.0   \n",
       "Y Coordinate                              1941458.0   \n",
       "Year                                           2021   \n",
       "Updated On                      2023-11-18 15:39:49   \n",
       "Latitude                                  41.995219   \n",
       "Longitude                                -87.713355   \n",
       "Location              (41.995219444, -87.713354912)   \n",
       "\n",
       "                                                  3  \\\n",
       "ID                                         13279676   \n",
       "Case Number                                JG507211   \n",
       "Date                            2023-11-09 07:30:00   \n",
       "Block                              019XX W BYRON ST   \n",
       "IUCR                                            620   \n",
       "Primary Type                               BURGLARY   \n",
       "Description                          UNLAWFUL ENTRY   \n",
       "Location Description                      APARTMENT   \n",
       "Arrest                                        False   \n",
       "Domestic                                      False   \n",
       "Beat                                           1922   \n",
       "District                                         19   \n",
       "Ward                                           47.0   \n",
       "Community Area                                  5.0   \n",
       "FBI Code                                          5   \n",
       "X Coordinate                              1162518.0   \n",
       "Y Coordinate                              1925906.0   \n",
       "Year                                           2023   \n",
       "Updated On                      2023-11-18 15:39:49   \n",
       "Latitude                                  41.952345   \n",
       "Longitude                                -87.677975   \n",
       "Location              (41.952345086, -87.677975059)   \n",
       "\n",
       "                                                                      4  \n",
       "ID                                                             13274752  \n",
       "Case Number                                                    JG501049  \n",
       "Date                                                2023-11-12 07:59:00  \n",
       "Block                                         086XX S COTTAGE GROVE AVE  \n",
       "IUCR                                                                454  \n",
       "Primary Type                                                    BATTERY  \n",
       "Description           AGGRAVATED P.O. - HANDS, FISTS, FEET, NO / MIN...  \n",
       "Location Description                                 SMALL RETAIL STORE  \n",
       "Arrest                                                             True  \n",
       "Domestic                                                          False  \n",
       "Beat                                                                632  \n",
       "District                                                              6  \n",
       "Ward                                                                6.0  \n",
       "Community Area                                                     44.0  \n",
       "FBI Code                                                            08B  \n",
       "X Coordinate                                                  1183071.0  \n",
       "Y Coordinate                                                  1847869.0  \n",
       "Year                                                               2023  \n",
       "Updated On                                          2023-12-09 15:41:24  \n",
       "Latitude                                                      41.737751  \n",
       "Longitude                                                    -87.604856  \n",
       "Location                                  (41.737750767, -87.604855911)  "
      ]
     },
     "execution_count": 14,
     "metadata": {},
     "output_type": "execute_result"
    }
   ],
   "source": [
    "data_crime.head().T"
   ]
  },
  {
   "cell_type": "markdown",
   "id": "d3ce5966-06fb-4f5d-a2e1-406ded8c0d6b",
   "metadata": {},
   "source": [
    "**3.4 tail()** - To view the bottom five rows of the dataset"
   ]
  },
  {
   "cell_type": "code",
   "execution_count": 16,
   "id": "42287b1e-af33-4733-84f9-1c2823dc605d",
   "metadata": {},
   "outputs": [
    {
     "data": {
      "text/html": [
       "<div>\n",
       "<style scoped>\n",
       "    .dataframe tbody tr th:only-of-type {\n",
       "        vertical-align: middle;\n",
       "    }\n",
       "\n",
       "    .dataframe tbody tr th {\n",
       "        vertical-align: top;\n",
       "    }\n",
       "\n",
       "    .dataframe thead th {\n",
       "        text-align: right;\n",
       "    }\n",
       "</style>\n",
       "<table border=\"1\" class=\"dataframe\">\n",
       "  <thead>\n",
       "    <tr style=\"text-align: right;\">\n",
       "      <th></th>\n",
       "      <th>ID</th>\n",
       "      <th>Case Number</th>\n",
       "      <th>Date</th>\n",
       "      <th>Block</th>\n",
       "      <th>IUCR</th>\n",
       "      <th>Primary Type</th>\n",
       "      <th>Description</th>\n",
       "      <th>Location Description</th>\n",
       "      <th>Arrest</th>\n",
       "      <th>Domestic</th>\n",
       "      <th>...</th>\n",
       "      <th>Ward</th>\n",
       "      <th>Community Area</th>\n",
       "      <th>FBI Code</th>\n",
       "      <th>X Coordinate</th>\n",
       "      <th>Y Coordinate</th>\n",
       "      <th>Year</th>\n",
       "      <th>Updated On</th>\n",
       "      <th>Latitude</th>\n",
       "      <th>Longitude</th>\n",
       "      <th>Location</th>\n",
       "    </tr>\n",
       "  </thead>\n",
       "  <tbody>\n",
       "    <tr>\n",
       "      <th>549994</th>\n",
       "      <td>1715153</td>\n",
       "      <td>G516233</td>\n",
       "      <td>2001-08-27 23:00:00</td>\n",
       "      <td>036XX S LAKE PARK AV</td>\n",
       "      <td>4387</td>\n",
       "      <td>OTHER OFFENSE</td>\n",
       "      <td>VIOLATE ORDER OF PROTECTION</td>\n",
       "      <td>RESIDENCE</td>\n",
       "      <td>False</td>\n",
       "      <td>True</td>\n",
       "      <td>...</td>\n",
       "      <td>NaN</td>\n",
       "      <td>NaN</td>\n",
       "      <td>26</td>\n",
       "      <td>1182305.0</td>\n",
       "      <td>1881212.0</td>\n",
       "      <td>2001</td>\n",
       "      <td>2015-08-17 15:03:40</td>\n",
       "      <td>41.829265</td>\n",
       "      <td>-87.606630</td>\n",
       "      <td>(41.829264761, -87.606629868)</td>\n",
       "    </tr>\n",
       "    <tr>\n",
       "      <th>549995</th>\n",
       "      <td>1799889</td>\n",
       "      <td>G625392</td>\n",
       "      <td>2001-10-16 16:30:00</td>\n",
       "      <td>065XX S STEWART AV</td>\n",
       "      <td>610</td>\n",
       "      <td>BURGLARY</td>\n",
       "      <td>FORCIBLE ENTRY</td>\n",
       "      <td>APARTMENT</td>\n",
       "      <td>False</td>\n",
       "      <td>False</td>\n",
       "      <td>...</td>\n",
       "      <td>NaN</td>\n",
       "      <td>NaN</td>\n",
       "      <td>5</td>\n",
       "      <td>1174713.0</td>\n",
       "      <td>1861451.0</td>\n",
       "      <td>2001</td>\n",
       "      <td>2015-08-17 15:03:40</td>\n",
       "      <td>41.775211</td>\n",
       "      <td>-87.635073</td>\n",
       "      <td>(41.775211478, -87.635073388)</td>\n",
       "    </tr>\n",
       "    <tr>\n",
       "      <th>549996</th>\n",
       "      <td>1769834</td>\n",
       "      <td>G583569</td>\n",
       "      <td>2001-09-29 05:35:00</td>\n",
       "      <td>031XX N CENTRAL PARK AV</td>\n",
       "      <td>460</td>\n",
       "      <td>BATTERY</td>\n",
       "      <td>SIMPLE</td>\n",
       "      <td>RESIDENCE</td>\n",
       "      <td>False</td>\n",
       "      <td>True</td>\n",
       "      <td>...</td>\n",
       "      <td>NaN</td>\n",
       "      <td>NaN</td>\n",
       "      <td>08B</td>\n",
       "      <td>1151878.0</td>\n",
       "      <td>1920763.0</td>\n",
       "      <td>2001</td>\n",
       "      <td>2015-08-17 15:03:40</td>\n",
       "      <td>41.938449</td>\n",
       "      <td>-87.717224</td>\n",
       "      <td>(41.938448908, -87.717224032)</td>\n",
       "    </tr>\n",
       "    <tr>\n",
       "      <th>549997</th>\n",
       "      <td>1788327</td>\n",
       "      <td>G610965</td>\n",
       "      <td>2001-09-12 09:05:00</td>\n",
       "      <td>065XX S CICERO AV</td>\n",
       "      <td>910</td>\n",
       "      <td>MOTOR VEHICLE THEFT</td>\n",
       "      <td>AUTOMOBILE</td>\n",
       "      <td>OTHER</td>\n",
       "      <td>True</td>\n",
       "      <td>False</td>\n",
       "      <td>...</td>\n",
       "      <td>NaN</td>\n",
       "      <td>NaN</td>\n",
       "      <td>7</td>\n",
       "      <td>1145544.0</td>\n",
       "      <td>1861043.0</td>\n",
       "      <td>2001</td>\n",
       "      <td>2015-08-17 15:03:40</td>\n",
       "      <td>41.774692</td>\n",
       "      <td>-87.742015</td>\n",
       "      <td>(41.774692006, -87.742014699)</td>\n",
       "    </tr>\n",
       "    <tr>\n",
       "      <th>549998</th>\n",
       "      <td>1810693</td>\n",
       "      <td>G627247</td>\n",
       "      <td>2001-10-18 17:34:00</td>\n",
       "      <td>053XX W FERDINAND ST</td>\n",
       "      <td>2092</td>\n",
       "      <td>NARCOTICS</td>\n",
       "      <td>SOLICIT NARCOTICS ON PUBLICWAY</td>\n",
       "      <td>SIDEWALK</td>\n",
       "      <td>True</td>\n",
       "      <td>False</td>\n",
       "      <td>...</td>\n",
       "      <td>NaN</td>\n",
       "      <td>NaN</td>\n",
       "      <td>26</td>\n",
       "      <td>1140670.0</td>\n",
       "      <td>1902673.0</td>\n",
       "      <td>2001</td>\n",
       "      <td>2015-08-17 15:03:40</td>\n",
       "      <td>41.889022</td>\n",
       "      <td>-87.758862</td>\n",
       "      <td>(41.889021585, -87.758861788)</td>\n",
       "    </tr>\n",
       "  </tbody>\n",
       "</table>\n",
       "<p>5 rows × 22 columns</p>\n",
       "</div>"
      ],
      "text/plain": [
       "             ID Case Number                Date                    Block  \\\n",
       "549994  1715153     G516233 2001-08-27 23:00:00     036XX S LAKE PARK AV   \n",
       "549995  1799889     G625392 2001-10-16 16:30:00       065XX S STEWART AV   \n",
       "549996  1769834     G583569 2001-09-29 05:35:00  031XX N CENTRAL PARK AV   \n",
       "549997  1788327     G610965 2001-09-12 09:05:00        065XX S CICERO AV   \n",
       "549998  1810693     G627247 2001-10-18 17:34:00     053XX W FERDINAND ST   \n",
       "\n",
       "        IUCR         Primary Type                     Description  \\\n",
       "549994  4387        OTHER OFFENSE     VIOLATE ORDER OF PROTECTION   \n",
       "549995   610             BURGLARY                  FORCIBLE ENTRY   \n",
       "549996   460              BATTERY                          SIMPLE   \n",
       "549997   910  MOTOR VEHICLE THEFT                      AUTOMOBILE   \n",
       "549998  2092            NARCOTICS  SOLICIT NARCOTICS ON PUBLICWAY   \n",
       "\n",
       "       Location Description  Arrest  Domestic  ...  Ward  Community Area  \\\n",
       "549994            RESIDENCE   False      True  ...   NaN             NaN   \n",
       "549995            APARTMENT   False     False  ...   NaN             NaN   \n",
       "549996            RESIDENCE   False      True  ...   NaN             NaN   \n",
       "549997                OTHER    True     False  ...   NaN             NaN   \n",
       "549998             SIDEWALK    True     False  ...   NaN             NaN   \n",
       "\n",
       "        FBI Code  X Coordinate Y Coordinate  Year          Updated On  \\\n",
       "549994        26     1182305.0    1881212.0  2001 2015-08-17 15:03:40   \n",
       "549995         5     1174713.0    1861451.0  2001 2015-08-17 15:03:40   \n",
       "549996       08B     1151878.0    1920763.0  2001 2015-08-17 15:03:40   \n",
       "549997         7     1145544.0    1861043.0  2001 2015-08-17 15:03:40   \n",
       "549998        26     1140670.0    1902673.0  2001 2015-08-17 15:03:40   \n",
       "\n",
       "         Latitude  Longitude                       Location  \n",
       "549994  41.829265 -87.606630  (41.829264761, -87.606629868)  \n",
       "549995  41.775211 -87.635073  (41.775211478, -87.635073388)  \n",
       "549996  41.938449 -87.717224  (41.938448908, -87.717224032)  \n",
       "549997  41.774692 -87.742015  (41.774692006, -87.742014699)  \n",
       "549998  41.889022 -87.758862  (41.889021585, -87.758861788)  \n",
       "\n",
       "[5 rows x 22 columns]"
      ]
     },
     "execution_count": 16,
     "metadata": {},
     "output_type": "execute_result"
    }
   ],
   "source": [
    "data_crime.tail()"
   ]
  },
  {
   "cell_type": "markdown",
   "id": "9243e49e-da9e-4222-aad6-2e8cf3f870d2",
   "metadata": {},
   "source": [
    "**3.5 info()** - Get the information about the dataframe including index, column names and data types, memory usage"
   ]
  },
  {
   "cell_type": "code",
   "execution_count": 18,
   "id": "051eb90b-cea7-4222-b495-b4537631211f",
   "metadata": {},
   "outputs": [
    {
     "name": "stdout",
     "output_type": "stream",
     "text": [
      "<class 'pandas.core.frame.DataFrame'>\n",
      "RangeIndex: 549999 entries, 0 to 549998\n",
      "Data columns (total 22 columns):\n",
      " #   Column                Non-Null Count   Dtype         \n",
      "---  ------                --------------   -----         \n",
      " 0   ID                    549999 non-null  int64         \n",
      " 1   Case Number           549999 non-null  object        \n",
      " 2   Date                  549999 non-null  datetime64[ns]\n",
      " 3   Block                 549999 non-null  object        \n",
      " 4   IUCR                  549999 non-null  object        \n",
      " 5   Primary Type          549999 non-null  object        \n",
      " 6   Description           549999 non-null  object        \n",
      " 7   Location Description  548326 non-null  object        \n",
      " 8   Arrest                549999 non-null  bool          \n",
      " 9   Domestic              549999 non-null  bool          \n",
      " 10  Beat                  549999 non-null  int64         \n",
      " 11  District              549999 non-null  int64         \n",
      " 12  Ward                  213674 non-null  float64       \n",
      " 13  Community Area        215093 non-null  float64       \n",
      " 14  FBI Code              549999 non-null  object        \n",
      " 15  X Coordinate          543087 non-null  float64       \n",
      " 16  Y Coordinate          543087 non-null  float64       \n",
      " 17  Year                  549999 non-null  int64         \n",
      " 18  Updated On            549999 non-null  datetime64[ns]\n",
      " 19  Latitude              543087 non-null  float64       \n",
      " 20  Longitude             543087 non-null  float64       \n",
      " 21  Location              543087 non-null  object        \n",
      "dtypes: bool(2), datetime64[ns](2), float64(6), int64(4), object(8)\n",
      "memory usage: 85.0+ MB\n"
     ]
    }
   ],
   "source": [
    "data_crime.info()"
   ]
  },
  {
   "cell_type": "markdown",
   "id": "fd284c62-a64a-43d5-9110-91ceb1923b2a",
   "metadata": {},
   "source": [
    "**3.6 describe()** - Statistical summary of numerical column"
   ]
  },
  {
   "cell_type": "code",
   "execution_count": 20,
   "id": "875d0a02-25fb-4866-8b57-55ef22478aba",
   "metadata": {},
   "outputs": [
    {
     "data": {
      "text/html": [
       "<div>\n",
       "<style scoped>\n",
       "    .dataframe tbody tr th:only-of-type {\n",
       "        vertical-align: middle;\n",
       "    }\n",
       "\n",
       "    .dataframe tbody tr th {\n",
       "        vertical-align: top;\n",
       "    }\n",
       "\n",
       "    .dataframe thead th {\n",
       "        text-align: right;\n",
       "    }\n",
       "</style>\n",
       "<table border=\"1\" class=\"dataframe\">\n",
       "  <thead>\n",
       "    <tr style=\"text-align: right;\">\n",
       "      <th></th>\n",
       "      <th>ID</th>\n",
       "      <th>Date</th>\n",
       "      <th>Beat</th>\n",
       "      <th>District</th>\n",
       "      <th>Ward</th>\n",
       "      <th>Community Area</th>\n",
       "      <th>X Coordinate</th>\n",
       "      <th>Y Coordinate</th>\n",
       "      <th>Year</th>\n",
       "      <th>Updated On</th>\n",
       "      <th>Latitude</th>\n",
       "      <th>Longitude</th>\n",
       "    </tr>\n",
       "  </thead>\n",
       "  <tbody>\n",
       "    <tr>\n",
       "      <th>count</th>\n",
       "      <td>5.499990e+05</td>\n",
       "      <td>549999</td>\n",
       "      <td>549999.000000</td>\n",
       "      <td>549999.000000</td>\n",
       "      <td>213674.000000</td>\n",
       "      <td>215093.000000</td>\n",
       "      <td>5.430870e+05</td>\n",
       "      <td>5.430870e+05</td>\n",
       "      <td>549999.000000</td>\n",
       "      <td>549999</td>\n",
       "      <td>543087.000000</td>\n",
       "      <td>543087.000000</td>\n",
       "    </tr>\n",
       "    <tr>\n",
       "      <th>mean</th>\n",
       "      <td>5.748380e+06</td>\n",
       "      <td>2009-10-05 02:55:46.740996096</td>\n",
       "      <td>1200.364957</td>\n",
       "      <td>11.339984</td>\n",
       "      <td>23.064659</td>\n",
       "      <td>36.755436</td>\n",
       "      <td>1.164788e+06</td>\n",
       "      <td>1.886954e+06</td>\n",
       "      <td>2009.336524</td>\n",
       "      <td>2018-12-22 08:36:46.706199552</td>\n",
       "      <td>41.845388</td>\n",
       "      <td>-87.670757</td>\n",
       "    </tr>\n",
       "    <tr>\n",
       "      <th>min</th>\n",
       "      <td>6.340000e+02</td>\n",
       "      <td>2001-01-01 00:00:00</td>\n",
       "      <td>111.000000</td>\n",
       "      <td>1.000000</td>\n",
       "      <td>1.000000</td>\n",
       "      <td>1.000000</td>\n",
       "      <td>0.000000e+00</td>\n",
       "      <td>0.000000e+00</td>\n",
       "      <td>2001.000000</td>\n",
       "      <td>2006-03-31 22:03:38</td>\n",
       "      <td>36.619446</td>\n",
       "      <td>-91.686566</td>\n",
       "    </tr>\n",
       "    <tr>\n",
       "      <th>25%</th>\n",
       "      <td>1.477682e+06</td>\n",
       "      <td>2001-04-21 02:04:25.500000</td>\n",
       "      <td>621.000000</td>\n",
       "      <td>6.000000</td>\n",
       "      <td>10.000000</td>\n",
       "      <td>22.000000</td>\n",
       "      <td>1.153708e+06</td>\n",
       "      <td>1.860460e+06</td>\n",
       "      <td>2001.000000</td>\n",
       "      <td>2015-08-17 15:03:40</td>\n",
       "      <td>41.772517</td>\n",
       "      <td>-87.711122</td>\n",
       "    </tr>\n",
       "    <tr>\n",
       "      <th>50%</th>\n",
       "      <td>1.651346e+06</td>\n",
       "      <td>2001-08-04 19:00:00</td>\n",
       "      <td>1113.000000</td>\n",
       "      <td>10.000000</td>\n",
       "      <td>23.000000</td>\n",
       "      <td>32.000000</td>\n",
       "      <td>1.166408e+06</td>\n",
       "      <td>1.892009e+06</td>\n",
       "      <td>2001.000000</td>\n",
       "      <td>2015-08-17 15:03:40</td>\n",
       "      <td>41.859379</td>\n",
       "      <td>-87.664750</td>\n",
       "    </tr>\n",
       "    <tr>\n",
       "      <th>75%</th>\n",
       "      <td>1.327660e+07</td>\n",
       "      <td>2023-11-07 23:00:00</td>\n",
       "      <td>1813.000000</td>\n",
       "      <td>17.000000</td>\n",
       "      <td>34.000000</td>\n",
       "      <td>55.000000</td>\n",
       "      <td>1.176423e+06</td>\n",
       "      <td>1.910292e+06</td>\n",
       "      <td>2023.000000</td>\n",
       "      <td>2023-11-24 15:40:59</td>\n",
       "      <td>41.909717</td>\n",
       "      <td>-87.627942</td>\n",
       "    </tr>\n",
       "    <tr>\n",
       "      <th>max</th>\n",
       "      <td>1.348547e+07</td>\n",
       "      <td>2024-05-30 00:00:00</td>\n",
       "      <td>2535.000000</td>\n",
       "      <td>31.000000</td>\n",
       "      <td>50.000000</td>\n",
       "      <td>77.000000</td>\n",
       "      <td>1.205119e+06</td>\n",
       "      <td>1.951610e+06</td>\n",
       "      <td>2024.000000</td>\n",
       "      <td>2024-06-06 15:41:55</td>\n",
       "      <td>42.022878</td>\n",
       "      <td>-87.524532</td>\n",
       "    </tr>\n",
       "    <tr>\n",
       "      <th>std</th>\n",
       "      <td>5.669909e+06</td>\n",
       "      <td>NaN</td>\n",
       "      <td>712.157469</td>\n",
       "      <td>7.047229</td>\n",
       "      <td>13.876843</td>\n",
       "      <td>21.830825</td>\n",
       "      <td>1.890234e+04</td>\n",
       "      <td>3.530500e+04</td>\n",
       "      <td>10.728233</td>\n",
       "      <td>NaN</td>\n",
       "      <td>0.097231</td>\n",
       "      <td>0.067835</td>\n",
       "    </tr>\n",
       "  </tbody>\n",
       "</table>\n",
       "</div>"
      ],
      "text/plain": [
       "                 ID                           Date           Beat  \\\n",
       "count  5.499990e+05                         549999  549999.000000   \n",
       "mean   5.748380e+06  2009-10-05 02:55:46.740996096    1200.364957   \n",
       "min    6.340000e+02            2001-01-01 00:00:00     111.000000   \n",
       "25%    1.477682e+06     2001-04-21 02:04:25.500000     621.000000   \n",
       "50%    1.651346e+06            2001-08-04 19:00:00    1113.000000   \n",
       "75%    1.327660e+07            2023-11-07 23:00:00    1813.000000   \n",
       "max    1.348547e+07            2024-05-30 00:00:00    2535.000000   \n",
       "std    5.669909e+06                            NaN     712.157469   \n",
       "\n",
       "            District           Ward  Community Area  X Coordinate  \\\n",
       "count  549999.000000  213674.000000   215093.000000  5.430870e+05   \n",
       "mean       11.339984      23.064659       36.755436  1.164788e+06   \n",
       "min         1.000000       1.000000        1.000000  0.000000e+00   \n",
       "25%         6.000000      10.000000       22.000000  1.153708e+06   \n",
       "50%        10.000000      23.000000       32.000000  1.166408e+06   \n",
       "75%        17.000000      34.000000       55.000000  1.176423e+06   \n",
       "max        31.000000      50.000000       77.000000  1.205119e+06   \n",
       "std         7.047229      13.876843       21.830825  1.890234e+04   \n",
       "\n",
       "       Y Coordinate           Year                     Updated On  \\\n",
       "count  5.430870e+05  549999.000000                         549999   \n",
       "mean   1.886954e+06    2009.336524  2018-12-22 08:36:46.706199552   \n",
       "min    0.000000e+00    2001.000000            2006-03-31 22:03:38   \n",
       "25%    1.860460e+06    2001.000000            2015-08-17 15:03:40   \n",
       "50%    1.892009e+06    2001.000000            2015-08-17 15:03:40   \n",
       "75%    1.910292e+06    2023.000000            2023-11-24 15:40:59   \n",
       "max    1.951610e+06    2024.000000            2024-06-06 15:41:55   \n",
       "std    3.530500e+04      10.728233                            NaN   \n",
       "\n",
       "            Latitude      Longitude  \n",
       "count  543087.000000  543087.000000  \n",
       "mean       41.845388     -87.670757  \n",
       "min        36.619446     -91.686566  \n",
       "25%        41.772517     -87.711122  \n",
       "50%        41.859379     -87.664750  \n",
       "75%        41.909717     -87.627942  \n",
       "max        42.022878     -87.524532  \n",
       "std         0.097231       0.067835  "
      ]
     },
     "execution_count": 20,
     "metadata": {},
     "output_type": "execute_result"
    }
   ],
   "source": [
    "data_crime.describe()"
   ]
  },
  {
   "cell_type": "markdown",
   "id": "ec1621ce-45b5-4316-b5e3-8795607cf7db",
   "metadata": {},
   "source": [
    "**3.7 Statistical summary of text column**"
   ]
  },
  {
   "cell_type": "code",
   "execution_count": 22,
   "id": "f877f4d5-e1fe-41f9-8260-6228e6387f3a",
   "metadata": {},
   "outputs": [
    {
     "data": {
      "text/html": [
       "<div>\n",
       "<style scoped>\n",
       "    .dataframe tbody tr th:only-of-type {\n",
       "        vertical-align: middle;\n",
       "    }\n",
       "\n",
       "    .dataframe tbody tr th {\n",
       "        vertical-align: top;\n",
       "    }\n",
       "\n",
       "    .dataframe thead th {\n",
       "        text-align: right;\n",
       "    }\n",
       "</style>\n",
       "<table border=\"1\" class=\"dataframe\">\n",
       "  <thead>\n",
       "    <tr style=\"text-align: right;\">\n",
       "      <th></th>\n",
       "      <th>Case Number</th>\n",
       "      <th>Block</th>\n",
       "      <th>IUCR</th>\n",
       "      <th>Primary Type</th>\n",
       "      <th>Description</th>\n",
       "      <th>Location Description</th>\n",
       "      <th>FBI Code</th>\n",
       "      <th>Location</th>\n",
       "    </tr>\n",
       "  </thead>\n",
       "  <tbody>\n",
       "    <tr>\n",
       "      <th>count</th>\n",
       "      <td>549999</td>\n",
       "      <td>549999</td>\n",
       "      <td>549999</td>\n",
       "      <td>549999</td>\n",
       "      <td>549999</td>\n",
       "      <td>548326</td>\n",
       "      <td>549999</td>\n",
       "      <td>543087</td>\n",
       "    </tr>\n",
       "    <tr>\n",
       "      <th>unique</th>\n",
       "      <td>549434</td>\n",
       "      <td>51020</td>\n",
       "      <td>356</td>\n",
       "      <td>34</td>\n",
       "      <td>449</td>\n",
       "      <td>210</td>\n",
       "      <td>27</td>\n",
       "      <td>278640</td>\n",
       "    </tr>\n",
       "    <tr>\n",
       "      <th>top</th>\n",
       "      <td>HZ140230</td>\n",
       "      <td>100XX W OHARE ST</td>\n",
       "      <td>460</td>\n",
       "      <td>THEFT</td>\n",
       "      <td>SIMPLE</td>\n",
       "      <td>STREET</td>\n",
       "      <td>6</td>\n",
       "      <td>(41.976200173, -87.905312411)</td>\n",
       "    </tr>\n",
       "    <tr>\n",
       "      <th>freq</th>\n",
       "      <td>6</td>\n",
       "      <td>1475</td>\n",
       "      <td>66750</td>\n",
       "      <td>112771</td>\n",
       "      <td>95252</td>\n",
       "      <td>166056</td>\n",
       "      <td>112771</td>\n",
       "      <td>1324</td>\n",
       "    </tr>\n",
       "  </tbody>\n",
       "</table>\n",
       "</div>"
      ],
      "text/plain": [
       "       Case Number             Block    IUCR Primary Type Description  \\\n",
       "count       549999            549999  549999       549999      549999   \n",
       "unique      549434             51020     356           34         449   \n",
       "top       HZ140230  100XX W OHARE ST     460        THEFT      SIMPLE   \n",
       "freq             6              1475   66750       112771       95252   \n",
       "\n",
       "       Location Description  FBI Code                       Location  \n",
       "count                548326    549999                         543087  \n",
       "unique                  210        27                         278640  \n",
       "top                  STREET         6  (41.976200173, -87.905312411)  \n",
       "freq                 166056    112771                           1324  "
      ]
     },
     "execution_count": 22,
     "metadata": {},
     "output_type": "execute_result"
    }
   ],
   "source": [
    "data_crime.describe(include='object')"
   ]
  },
  {
   "cell_type": "markdown",
   "id": "d5b57ca7-a3ae-4d4e-a075-df32a9c79739",
   "metadata": {},
   "source": [
    "## 7. Check anamolies in the Chicago Chrime dataset"
   ]
  },
  {
   "cell_type": "code",
   "execution_count": 24,
   "id": "4dbd2fe0-f72d-4035-8428-402b176d37e4",
   "metadata": {},
   "outputs": [
    {
     "data": {
      "text/plain": [
       "ID                           0\n",
       "Case Number                  0\n",
       "Date                         0\n",
       "Block                        0\n",
       "IUCR                         0\n",
       "Primary Type                 0\n",
       "Description                  0\n",
       "Location Description      1673\n",
       "Arrest                       0\n",
       "Domestic                     0\n",
       "Beat                         0\n",
       "District                     0\n",
       "Ward                    336325\n",
       "Community Area          334906\n",
       "FBI Code                     0\n",
       "X Coordinate              6912\n",
       "Y Coordinate              6912\n",
       "Year                         0\n",
       "Updated On                   0\n",
       "Latitude                  6912\n",
       "Longitude                 6912\n",
       "Location                  6912\n",
       "dtype: int64"
      ]
     },
     "execution_count": 24,
     "metadata": {},
     "output_type": "execute_result"
    }
   ],
   "source": [
    "data_crime.isnull().sum()"
   ]
  },
  {
   "cell_type": "markdown",
   "id": "23db7d7f-4c0b-44b7-b76b-1ff216109677",
   "metadata": {},
   "source": [
    "### Set Options\n",
    "* Display complete rows"
   ]
  },
  {
   "cell_type": "code",
   "execution_count": 26,
   "id": "735a8af0-c8e5-41bd-89e5-faa5185f39d0",
   "metadata": {},
   "outputs": [],
   "source": [
    "#pd.options.display.max_rows = None"
   ]
  },
  {
   "cell_type": "code",
   "execution_count": 27,
   "id": "418482c2-e501-4f17-a015-f5a160a50c3c",
   "metadata": {},
   "outputs": [
    {
     "data": {
      "text/plain": [
       "Location Description\n",
       "STREET               166056\n",
       "RESIDENCE             90195\n",
       "APARTMENT             58759\n",
       "SIDEWALK              30151\n",
       "OTHER                 14865\n",
       "                      ...  \n",
       "POOLROOM                  1\n",
       "ROOF                      1\n",
       "TRUCKING TERMINAL         1\n",
       "LAGOON                    1\n",
       "LOADING DOCK              1\n",
       "Name: count, Length: 210, dtype: int64"
      ]
     },
     "execution_count": 27,
     "metadata": {},
     "output_type": "execute_result"
    }
   ],
   "source": [
    "data_crime['Location Description'].value_counts()"
   ]
  },
  {
   "cell_type": "markdown",
   "id": "f12754c1-f839-44de-a993-0a9ad66a1676",
   "metadata": {},
   "source": [
    "**7.1 Impute the missing values** by\n",
    " Creating new category *Missing*"
   ]
  },
  {
   "cell_type": "code",
   "execution_count": 29,
   "id": "41f16c94-829b-40d7-b51a-5ed2c952d359",
   "metadata": {},
   "outputs": [],
   "source": [
    "#data_crime['Location Description'] = data_crime['Location Description'].fillna(\"Missing\")"
   ]
  },
  {
   "cell_type": "code",
   "execution_count": 30,
   "id": "419282bf-0a39-45cc-af5b-fbe140227bfb",
   "metadata": {},
   "outputs": [
    {
     "data": {
      "text/plain": [
       "ID                           0\n",
       "Case Number                  0\n",
       "Date                         0\n",
       "Block                        0\n",
       "IUCR                         0\n",
       "Primary Type                 0\n",
       "Description                  0\n",
       "Location Description      1673\n",
       "Arrest                       0\n",
       "Domestic                     0\n",
       "Beat                         0\n",
       "District                     0\n",
       "Ward                    336325\n",
       "Community Area          334906\n",
       "FBI Code                     0\n",
       "X Coordinate              6912\n",
       "Y Coordinate              6912\n",
       "Year                         0\n",
       "Updated On                   0\n",
       "Latitude                  6912\n",
       "Longitude                 6912\n",
       "Location                  6912\n",
       "dtype: int64"
      ]
     },
     "execution_count": 30,
     "metadata": {},
     "output_type": "execute_result"
    }
   ],
   "source": [
    "data_crime.isnull().sum()"
   ]
  },
  {
   "cell_type": "code",
   "execution_count": 31,
   "id": "0e879db1-d64a-4729-a41d-b2cec54beb86",
   "metadata": {},
   "outputs": [],
   "source": [
    "#df_crime = data_crime.drop(['Ward','Community Area','X Coordinate','Y Coordinate','Latitude','Longitude','Location'], axis = 1, inplace=True)"
   ]
  },
  {
   "cell_type": "code",
   "execution_count": null,
   "id": "7e8acc61-7043-453a-8759-b06bf1ce67f9",
   "metadata": {},
   "outputs": [],
   "source": []
  },
  {
   "cell_type": "code",
   "execution_count": 32,
   "id": "79b9317e-04f7-4832-b0cc-7fc50de09d3d",
   "metadata": {},
   "outputs": [
    {
     "name": "stdout",
     "output_type": "stream",
     "text": [
      "<class 'pandas.core.frame.DataFrame'>\n",
      "RangeIndex: 549999 entries, 0 to 549998\n",
      "Data columns (total 22 columns):\n",
      " #   Column                Non-Null Count   Dtype         \n",
      "---  ------                --------------   -----         \n",
      " 0   ID                    549999 non-null  int64         \n",
      " 1   Case Number           549999 non-null  object        \n",
      " 2   Date                  549999 non-null  datetime64[ns]\n",
      " 3   Block                 549999 non-null  object        \n",
      " 4   IUCR                  549999 non-null  object        \n",
      " 5   Primary Type          549999 non-null  object        \n",
      " 6   Description           549999 non-null  object        \n",
      " 7   Location Description  548326 non-null  object        \n",
      " 8   Arrest                549999 non-null  bool          \n",
      " 9   Domestic              549999 non-null  bool          \n",
      " 10  Beat                  549999 non-null  int64         \n",
      " 11  District              549999 non-null  int64         \n",
      " 12  Ward                  213674 non-null  float64       \n",
      " 13  Community Area        215093 non-null  float64       \n",
      " 14  FBI Code              549999 non-null  object        \n",
      " 15  X Coordinate          543087 non-null  float64       \n",
      " 16  Y Coordinate          543087 non-null  float64       \n",
      " 17  Year                  549999 non-null  int64         \n",
      " 18  Updated On            549999 non-null  datetime64[ns]\n",
      " 19  Latitude              543087 non-null  float64       \n",
      " 20  Longitude             543087 non-null  float64       \n",
      " 21  Location              543087 non-null  object        \n",
      "dtypes: bool(2), datetime64[ns](2), float64(6), int64(4), object(8)\n",
      "memory usage: 85.0+ MB\n"
     ]
    }
   ],
   "source": [
    "data_crime.info()"
   ]
  },
  {
   "cell_type": "markdown",
   "id": "cd895378-45c6-4f31-85ea-6a3a0c6beac2",
   "metadata": {},
   "source": [
    "**Count the crime counts with date and ID columns**"
   ]
  },
  {
   "cell_type": "code",
   "execution_count": 34,
   "id": "8d16e17c-a618-4156-aba2-033ec6f4474a",
   "metadata": {},
   "outputs": [
    {
     "data": {
      "text/plain": [
       "Date\n",
       "2001-01-01 00:00:00    51\n",
       "2001-01-01 00:01:00    38\n",
       "2001-01-01 00:04:00     1\n",
       "2001-01-01 00:05:00    12\n",
       "2001-01-01 00:07:00     1\n",
       "                       ..\n",
       "2024-05-29 23:45:00     1\n",
       "2024-05-29 23:50:00     1\n",
       "2024-05-29 23:55:00     1\n",
       "2024-05-29 23:59:00     1\n",
       "2024-05-30 00:00:00    16\n",
       "Name: ID, Length: 263098, dtype: int64"
      ]
     },
     "execution_count": 34,
     "metadata": {},
     "output_type": "execute_result"
    }
   ],
   "source": [
    "\n",
    "crime_cnt = data_crime.groupby('Date')['ID'].count()\n",
    "crime_cnt\n"
   ]
  },
  {
   "cell_type": "code",
   "execution_count": 35,
   "id": "d36c4d61-f66f-4b1e-ba19-024a813f104d",
   "metadata": {},
   "outputs": [
    {
     "data": {
      "text/plain": [
       "Date\n",
       "2001    337036\n",
       "2002      1024\n",
       "2003       931\n",
       "2004       735\n",
       "2005       756\n",
       "2006       765\n",
       "2007       737\n",
       "2008       860\n",
       "2009       810\n",
       "2010       723\n",
       "2011       685\n",
       "2012       755\n",
       "2013       703\n",
       "2014       701\n",
       "2015       819\n",
       "2016      1149\n",
       "2017      1085\n",
       "2018      1128\n",
       "2019      1014\n",
       "2020      1730\n",
       "2021      2069\n",
       "2022      4303\n",
       "2023     89158\n",
       "2024    100323\n",
       "Name: ID, dtype: int64"
      ]
     },
     "execution_count": 35,
     "metadata": {},
     "output_type": "execute_result"
    }
   ],
   "source": [
    "crime_cnt_year = data_crime.groupby(data_crime['Date'].dt.year)['ID'].count()\n",
    "crime_cnt_year"
   ]
  },
  {
   "cell_type": "markdown",
   "id": "1e33e954-ab8e-40f9-88af-d347632660f4",
   "metadata": {},
   "source": [
    "**Plot the crime counts in *LINE* chart**"
   ]
  },
  {
   "cell_type": "code",
   "execution_count": 37,
   "id": "69e9ab01-16f6-4b00-b8d5-cdb2f0924407",
   "metadata": {},
   "outputs": [
    {
     "data": {
      "image/png": "[encoded data removed]",
      "text/plain": [
       "<Figure size 640x480 with 1 Axes>"
      ]
     },
     "metadata": {},
     "output_type": "display_data"
    }
   ],
   "source": [
    "plt.plot(crime_cnt_year.index, crime_cnt_year.values)\n",
    "plt.xlabel(\"Year\")\n",
    "plt.ylabel(\"Count of Crimes\")\n",
    "plt.title(\"Time series of crimes\")\n",
    "plt.show()"
   ]
  },
  {
   "cell_type": "markdown",
   "id": "df7b3b13-b58e-46f4-b5d4-9c278baa3b7c",
   "metadata": {},
   "source": [
    "**Plot the crime counts by crime type in *BAR* chart**"
   ]
  },
  {
   "cell_type": "code",
   "execution_count": 39,
   "id": "394d8974-1a24-42f4-a182-1cb786a0be95",
   "metadata": {},
   "outputs": [
    {
     "data": {
      "image/png": "[encoded data removed]",
      "text/plain": [
       "<Figure size 640x480 with 1 Axes>"
      ]
     },
     "metadata": {},
     "output_type": "display_data"
    }
   ],
   "source": [
    "crime_cnt_type = data_crime['Primary Type'].value_counts()\n",
    "crime_cnt_type.plot(kind = 'bar')\n",
    "plt.xlabel(\"Crime Type\")\n",
    "plt.ylabel(\"Crimes Count\")\n",
    "plt.title(\"Crime Counts by Crime Type\")\n",
    "plt.show()"
   ]
  },
  {
   "cell_type": "markdown",
   "id": "729d7e71-6868-4a5d-9caa-5adae44e011e",
   "metadata": {},
   "source": [
    "**Heatmap using lattitude and longitude**"
   ]
  },
  {
   "cell_type": "code",
   "execution_count": 72,
   "id": "60f9dac6-113f-4899-8839-161b42cc978e",
   "metadata": {},
   "outputs": [
    {
     "data": {
      "image/png": "[encoded data removed]",
      "text/plain": [
       "<Figure size 640x480 with 2 Axes>"
      ]
     },
     "metadata": {},
     "output_type": "display_data"
    }
   ],
   "source": [
    "data_crime_clean = data_crime.dropna(subset=['Latitude', 'Longitude'])\n",
    "x = data_crime_clean['Latitude']\n",
    "y = data_crime_clean['Longitude']\n",
    "\n",
    "heatmap, xedges, yedges = np.histogram2d(x, y, bins =30)\n",
    "\n",
    "plt.imshow(heatmap.T, origin = 'lower', extent = [xedges[0], xedges[-1], yedges[0], yedges[-1]], cmap= 'coolwarm')\n",
    "plt.colorbar()\n",
    "plt.xlabel('Latitude')\n",
    "plt.ylabel('Longitude')\n",
    "plt.title('Crime Heatmap')\n",
    "plt.show()"
   ]
  },
  {
   "cell_type": "markdown",
   "id": "3f8ef4df-7fb0-4f31-9ad4-5254166bcb86",
   "metadata": {},
   "source": [
    "**Crimes by Dtstrict- Bar Chart**"
   ]
  },
  {
   "cell_type": "code",
   "execution_count": 81,
   "id": "50e6f839-f1d9-4e63-a8de-ff54744bea3d",
   "metadata": {},
   "outputs": [
    {
     "data": {
      "image/png": "[encoded data removed]",
      "text/plain": [
       "<Figure size 640x480 with 1 Axes>"
      ]
     },
     "metadata": {},
     "output_type": "display_data"
    }
   ],
   "source": [
    "crime_cnt_dist = data_crime['District'].value_counts()\n",
    "crime_cnt_dist.plot(kind = 'bar')\n",
    "plt.xlabel('District')\n",
    "plt.ylabel('Crimes Count')\n",
    "plt.title('Crimes by District')\n",
    "plt.show()"
   ]
  },
  {
   "cell_type": "code",
   "execution_count": 75,
   "id": "19404565-36c2-43d0-b87e-020a2365072d",
   "metadata": {},
   "outputs": [
    {
     "name": "stdout",
     "output_type": "stream",
     "text": [
      "<class 'pandas.core.frame.DataFrame'>\n",
      "RangeIndex: 549999 entries, 0 to 549998\n",
      "Data columns (total 22 columns):\n",
      " #   Column                Non-Null Count   Dtype         \n",
      "---  ------                --------------   -----         \n",
      " 0   ID                    549999 non-null  int64         \n",
      " 1   Case Number           549999 non-null  object        \n",
      " 2   Date                  549999 non-null  datetime64[ns]\n",
      " 3   Block                 549999 non-null  object        \n",
      " 4   IUCR                  549999 non-null  object        \n",
      " 5   Primary Type          549999 non-null  object        \n",
      " 6   Description           549999 non-null  object        \n",
      " 7   Location Description  548326 non-null  object        \n",
      " 8   Arrest                549999 non-null  bool          \n",
      " 9   Domestic              549999 non-null  bool          \n",
      " 10  Beat                  549999 non-null  int64         \n",
      " 11  District              549999 non-null  int64         \n",
      " 12  Ward                  213674 non-null  float64       \n",
      " 13  Community Area        215093 non-null  float64       \n",
      " 14  FBI Code              549999 non-null  object        \n",
      " 15  X Coordinate          543087 non-null  float64       \n",
      " 16  Y Coordinate          543087 non-null  float64       \n",
      " 17  Year                  549999 non-null  int64         \n",
      " 18  Updated On            549999 non-null  datetime64[ns]\n",
      " 19  Latitude              543087 non-null  float64       \n",
      " 20  Longitude             543087 non-null  float64       \n",
      " 21  Location              543087 non-null  object        \n",
      "dtypes: bool(2), datetime64[ns](2), float64(6), int64(4), object(8)\n",
      "memory usage: 85.0+ MB\n"
     ]
    }
   ],
   "source": [
    "data_crime.info()"
   ]
  },
  {
   "cell_type": "markdown",
   "id": "c610bebc-b279-43f9-81fd-2c15aa1cfbbd",
   "metadata": {},
   "source": [
    "## Summary :\n",
    "\n",
    "* Crime dataset has 5,49,999 rows and 22 columns.\n",
    "* Numerical Columns : ID, Beat, District, ward, community areas, X Coordinates, Y coordinates, Year, Updates on, Latitudes, Longitude\n",
    "    - Ward and Community columns have more than 3,00,000 null values.\n",
    "    - Some of the crime locations has null values(x coordinates, Y coordinates, lattitudes, longitude\n",
    "* Categorical Column : Case Number, Block, IUCR, Primary Type, Description, Location Description, FBI code, Location.\n",
    "    - Primary Type of crimes has classified into 34 categories. Top primary type classification is *THEFT*. Frequency is 112771.\n",
    "    - Description of crime has classified into 449 categories. Top Description of crime classification is *SIMPLE*\n",
    "    - Description of Location has classified into 210 categories. Top Description of location classification is *STREET*. Frequency is 166056\n",
    "    - FBI CODE classification has 27 categories. Top category is 6. Frequency is 112771.\n",
    "    - Primary Type of crime and FBI code frequency are equal.\n",
    "* Date Columns:\n",
    "    - Date: When the crime happened\n",
    "    - Update On: When the crime record was last updated\n",
    "* Boolean Columns:\n",
    "    - Arrest and Domestic have Boolean values\n",
    "* Missing Values:\n",
    "    - Location Description, X Coordinates, Y Coordinates, Lattitudes, Longitudes, location Columns have missing values\n",
    "    - Ward, Community Areas Columns have more missing values.\n",
    "    - Location Description missing values are imputed by creating new category *Missing*\n",
    "    - Location Description, X Coordinates, Y Coordinates, Lattitudes, Longitudes, location Columns are dropped from the dataset\n",
    "#### Crime Analysis:\n",
    "* Crime Type:\n",
    "    - The most frequently occurring crime types are THEFT and BATTERY.\n",
    "* Location Analysis:\n",
    "    - Locations classified as \"STREET\" exhibit the highest crime rates.\n",
    "    - Notably, 5% of all thefts occur on streets, representing 25% of total theft incidents.\n",
    "* Trend:\n",
    "    - Crime rates tend to peak after 2020\n",
    "    - The prime location of the highest Crimes rates are happened on the STREET.\n",
    "    - The analysis shows that crime rates are generally higher on weekends compared to weekdays.\n",
    "* Arrest Rate:\n",
    "    - 100 % arrest rate happend in Crime Type \"NARCOTICS\".\n",
    "    - 5 t0 10% arrest rate on the other types of crime.\n"
   ]
  },
  {
   "cell_type": "code",
   "execution_count": null,
   "id": "fe734289-5568-49a7-aa3e-53f02a1b46fb",
   "metadata": {},
   "outputs": [],
   "source": []
  },
  {
   "cell_type": "code",
   "execution_count": null,
   "id": "12dcd671-8415-4bb3-b3e5-40d5c094c76a",
   "metadata": {},
   "outputs": [],
   "source": []
  }
 ],
 "metadata": {
  "kernelspec": {
   "display_name": "Python 3 (ipykernel)",
   "language": "python",
   "name": "python3"
  },
  "language_info": {
   "codemirror_mode": {
    "name": "ipython",
    "version": 3
   },
   "file_extension": ".py",
   "mimetype": "text/x-python",
   "name": "python",
   "nbconvert_exporter": "python",
   "pygments_lexer": "ipython3",
   "version": "3.12.4"
  }
 },
 "nbformat": 4,
 "nbformat_minor": 5
}
